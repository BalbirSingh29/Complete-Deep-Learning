{
  "nbformat": 4,
  "nbformat_minor": 0,
  "metadata": {
    "colab": {
      "name": "Untitled2.ipynb",
      "provenance": [],
      "collapsed_sections": [],
      "authorship_tag": "ABX9TyO3BRQSWXSZirv8zhm4iLZ1",
      "include_colab_link": true
    },
    "kernelspec": {
      "name": "python3",
      "display_name": "Python 3"
    },
    "language_info": {
      "name": "python"
    }
  },
  "cells": [
    {
      "cell_type": "markdown",
      "metadata": {
        "id": "view-in-github",
        "colab_type": "text"
      },
      "source": [
        "<a href=\"https://colab.research.google.com/github/BalbirSingh29/Complete-Deep-Learning/blob/master/Untitled2.ipynb\" target=\"_parent\"><img src=\"https://colab.research.google.com/assets/colab-badge.svg\" alt=\"Open In Colab\"/></a>"
      ]
    },
    {
      "cell_type": "code",
      "metadata": {
        "id": "4F8V19RYjy5o"
      },
      "source": [
        "import numpy as np\n",
        "import pandas as pd"
      ],
      "execution_count": null,
      "outputs": []
    },
    {
      "cell_type": "code",
      "metadata": {
        "colab": {
          "base_uri": "https://localhost:8080/"
        },
        "id": "__xlRQjJj-iu",
        "outputId": "ec723e25-a135-42e3-b610-66e4614456a3"
      },
      "source": [
        "from google.colab import drive\n",
        "drive.mount('/content/drive')"
      ],
      "execution_count": null,
      "outputs": [
        {
          "output_type": "stream",
          "text": [
            "Drive already mounted at /content/drive; to attempt to forcibly remount, call drive.mount(\"/content/drive\", force_remount=True).\n"
          ],
          "name": "stdout"
        }
      ]
    },
    {
      "cell_type": "code",
      "metadata": {
        "colab": {
          "base_uri": "https://localhost:8080/"
        },
        "id": "wbY23XkUkLoB",
        "outputId": "59955916-6b98-4b48-f8b8-9f5692e5a140"
      },
      "source": [
        "books = pd.read_csv(\"/content/drive/MyDrive/deepLearning/BookRecommendation/BX-Books.csv\",sep=';',encoding='latin-1',error_bad_lines=False)\n",
        "\n",
        "\n",
        "ratings = pd.read_csv(\"/content/drive/MyDrive/deepLearning/BookRecommendation/BX-Book-Ratings.csv\",sep=';',encoding='latin-1',error_bad_lines=False)"
      ],
      "execution_count": null,
      "outputs": [
        {
          "output_type": "stream",
          "text": [
            "b'Skipping line 6452: expected 8 fields, saw 9\\nSkipping line 43667: expected 8 fields, saw 10\\nSkipping line 51751: expected 8 fields, saw 9\\n'\n",
            "b'Skipping line 92038: expected 8 fields, saw 9\\nSkipping line 104319: expected 8 fields, saw 9\\nSkipping line 121768: expected 8 fields, saw 9\\n'\n",
            "b'Skipping line 144058: expected 8 fields, saw 9\\nSkipping line 150789: expected 8 fields, saw 9\\nSkipping line 157128: expected 8 fields, saw 9\\nSkipping line 180189: expected 8 fields, saw 9\\nSkipping line 185738: expected 8 fields, saw 9\\n'\n",
            "b'Skipping line 209388: expected 8 fields, saw 9\\nSkipping line 220626: expected 8 fields, saw 9\\nSkipping line 227933: expected 8 fields, saw 11\\nSkipping line 228957: expected 8 fields, saw 10\\nSkipping line 245933: expected 8 fields, saw 9\\nSkipping line 251296: expected 8 fields, saw 9\\nSkipping line 259941: expected 8 fields, saw 9\\nSkipping line 261529: expected 8 fields, saw 9\\n'\n",
            "/usr/local/lib/python3.7/dist-packages/IPython/core/interactiveshell.py:2718: DtypeWarning: Columns (3) have mixed types.Specify dtype option on import or set low_memory=False.\n",
            "  interactivity=interactivity, compiler=compiler, result=result)\n"
          ],
          "name": "stderr"
        }
      ]
    },
    {
      "cell_type": "code",
      "metadata": {
        "id": "NT922fX9k3qP"
      },
      "source": [
        "users = pd.read_csv('/content/drive/MyDrive/deepLearning/BookRecommendation/BX-Users.csv',sep=';',encoding=\"latin-1\",error_bad_lines=False)"
      ],
      "execution_count": null,
      "outputs": []
    },
    {
      "cell_type": "code",
      "metadata": {
        "id": "VItJVwDzl3sB"
      },
      "source": [
        "books = books[['ISBN', 'Book-Title','Book-Author','Year-Of-Publication','Publisher']]\n",
        "books.rename(columns = {'Book-Title':'title','Book-Author':'author','Year-Of-Publication':'year','Publisher':'publisher'},inplace=True)\n",
        "users.rename(columns={'User-ID':'user_id','Location':'location','Age':'age'},inplace=True)\n",
        "ratings.rename(columns={'User-ID':'user_id','Book-Rating':'rating'},inplace=True)"
      ],
      "execution_count": null,
      "outputs": []
    },
    {
      "cell_type": "code",
      "metadata": {
        "colab": {
          "base_uri": "https://localhost:8080/",
          "height": 204
        },
        "id": "SOeefxZ_m-rX",
        "outputId": "0f44a468-3e2b-493d-af72-632de2ee4a4c"
      },
      "source": [
        "users.head()"
      ],
      "execution_count": null,
      "outputs": [
        {
          "output_type": "execute_result",
          "data": {
            "text/html": [
              "<div>\n",
              "<style scoped>\n",
              "    .dataframe tbody tr th:only-of-type {\n",
              "        vertical-align: middle;\n",
              "    }\n",
              "\n",
              "    .dataframe tbody tr th {\n",
              "        vertical-align: top;\n",
              "    }\n",
              "\n",
              "    .dataframe thead th {\n",
              "        text-align: right;\n",
              "    }\n",
              "</style>\n",
              "<table border=\"1\" class=\"dataframe\">\n",
              "  <thead>\n",
              "    <tr style=\"text-align: right;\">\n",
              "      <th></th>\n",
              "      <th>user_id</th>\n",
              "      <th>location</th>\n",
              "      <th>age</th>\n",
              "    </tr>\n",
              "  </thead>\n",
              "  <tbody>\n",
              "    <tr>\n",
              "      <th>0</th>\n",
              "      <td>1</td>\n",
              "      <td>nyc, new york, usa</td>\n",
              "      <td>NaN</td>\n",
              "    </tr>\n",
              "    <tr>\n",
              "      <th>1</th>\n",
              "      <td>2</td>\n",
              "      <td>stockton, california, usa</td>\n",
              "      <td>18.0</td>\n",
              "    </tr>\n",
              "    <tr>\n",
              "      <th>2</th>\n",
              "      <td>3</td>\n",
              "      <td>moscow, yukon territory, russia</td>\n",
              "      <td>NaN</td>\n",
              "    </tr>\n",
              "    <tr>\n",
              "      <th>3</th>\n",
              "      <td>4</td>\n",
              "      <td>porto, v.n.gaia, portugal</td>\n",
              "      <td>17.0</td>\n",
              "    </tr>\n",
              "    <tr>\n",
              "      <th>4</th>\n",
              "      <td>5</td>\n",
              "      <td>farnborough, hants, united kingdom</td>\n",
              "      <td>NaN</td>\n",
              "    </tr>\n",
              "  </tbody>\n",
              "</table>\n",
              "</div>"
            ],
            "text/plain": [
              "   user_id                            location   age\n",
              "0        1                  nyc, new york, usa   NaN\n",
              "1        2           stockton, california, usa  18.0\n",
              "2        3     moscow, yukon territory, russia   NaN\n",
              "3        4           porto, v.n.gaia, portugal  17.0\n",
              "4        5  farnborough, hants, united kingdom   NaN"
            ]
          },
          "metadata": {
            "tags": []
          },
          "execution_count": 43
        }
      ]
    },
    {
      "cell_type": "markdown",
      "metadata": {
        "id": "_JNNEfr0nKYM"
      },
      "source": [
        "The dataset is reliable and can consider as a large dataset. We have 271360 books data and total registered users on the website are approximately 278000 and they have given near about 11 lakh rating. Hence we can say that the dataset we have is nice and reliable.\n"
      ]
    },
    {
      "cell_type": "markdown",
      "metadata": {
        "id": "4p0-yKjenoHG"
      },
      "source": [
        "**Approach the a Problem Statement**\n",
        "We do not want to find a similarity between users or books. We want to do that if there is user A who has read a nd liked X and Y books, And user B has also liked this two books and now user A has read and liked some z book which is not read by B so we have to recommend z book to user B. This is what collaborative filtering is.\n",
        "So this is achieved using Matrix Factorization, we will create one matrix where columns will be users and indexes will be books and value will be rating. Like we have to create a Pivot Tablef"
      ]
    },
    {
      "cell_type": "markdown",
      "metadata": {
        "id": "jHthkFpvocHG"
      },
      "source": [
        "**A big Flaw with a Problem statement in the dataset**\n",
        "If we take all the books and all the users for modelling, Don't you think will it create a problem? So what we have to do is we have to decrease the number of users and books because we cannot consider a user who has only registered on the website or has only read one or two books. On such a user, we cannot rely to recommend books to others because we have to extract knowledge from data. So what we limit this number and we will take a user who has rated at least 200 books and also we will limit books and we will take only those books which have received at least 50 ratings from a user\n"
      ]
    },
    {
      "cell_type": "markdown",
      "metadata": {
        "id": "Mvv0lnmMpXsv"
      },
      "source": [
        "**Exploratory Data Analysis**\n",
        "So let's get with analysis and prepare the dataset as we discussed for modelling let us see how many users have given ratings and extract those users who have given more than 200 ratings."
      ]
    },
    {
      "cell_type": "code",
      "metadata": {
        "colab": {
          "base_uri": "https://localhost:8080/"
        },
        "id": "vmBrEVfknApP",
        "outputId": "355ab4c0-3a22-431c-a996-21d07deea241"
      },
      "source": [
        "ratings['user_id'].value_counts()"
      ],
      "execution_count": null,
      "outputs": [
        {
          "output_type": "execute_result",
          "data": {
            "text/plain": [
              "11676     13602\n",
              "198711     7550\n",
              "153662     6109\n",
              "98391      5891\n",
              "35859      5850\n",
              "          ...  \n",
              "158698        1\n",
              "17920         1\n",
              "277135        1\n",
              "275086        1\n",
              "187812        1\n",
              "Name: user_id, Length: 105283, dtype: int64"
            ]
          },
          "metadata": {
            "tags": []
          },
          "execution_count": 44
        }
      ]
    },
    {
      "cell_type": "markdown",
      "metadata": {
        "id": "cb_tUZPurYaE"
      },
      "source": [
        "**Step -1) Extract users and ratings of more than 200**\n",
        "\n",
        "when you run the above code we can see only 105283 peoples have given a rating among 278000. Now we will extract the user ids who have given more than 200 ratings and when we will have user ids we will extract the ratings of only this user if from the rating dataframe.\n"
      ]
    },
    {
      "cell_type": "code",
      "metadata": {
        "colab": {
          "base_uri": "https://localhost:8080/"
        },
        "id": "oUZrmnLQpv4X",
        "outputId": "59005344-44d2-4235-f1b1-f39c09202a1a"
      },
      "source": [
        "x = ratings['user_id'].value_counts()>200\n",
        "y = x[x].index\n",
        "print(y.shape)\n",
        "ratings = ratings[ratings['user_id'].isin(y)]"
      ],
      "execution_count": null,
      "outputs": [
        {
          "output_type": "stream",
          "text": [
            "(899,)\n"
          ],
          "name": "stdout"
        }
      ]
    },
    {
      "cell_type": "markdown",
      "metadata": {
        "id": "bNEXusj7r5UZ"
      },
      "source": [
        "**Step-2) Merge Ratings with Books**\n",
        "\n",
        "So 900 users are there who have given 5.2 lakhs rating and this we want. Now we will merge ratings with books on basis of ISBN so that we will get the rating of each user on each book id and the user who has not rated that book id the value will be zero."
      ]
    },
    {
      "cell_type": "code",
      "metadata": {
        "colab": {
          "base_uri": "https://localhost:8080/",
          "height": 374
        },
        "id": "FUYxIqsQrSpP",
        "outputId": "98599bf0-c23f-4265-9ffd-0249ec7ace48"
      },
      "source": [
        "rating_with_books = ratings.merge(books,on='ISBN')\n",
        "rating_with_books.head()"
      ],
      "execution_count": null,
      "outputs": [
        {
          "output_type": "execute_result",
          "data": {
            "text/html": [
              "<div>\n",
              "<style scoped>\n",
              "    .dataframe tbody tr th:only-of-type {\n",
              "        vertical-align: middle;\n",
              "    }\n",
              "\n",
              "    .dataframe tbody tr th {\n",
              "        vertical-align: top;\n",
              "    }\n",
              "\n",
              "    .dataframe thead th {\n",
              "        text-align: right;\n",
              "    }\n",
              "</style>\n",
              "<table border=\"1\" class=\"dataframe\">\n",
              "  <thead>\n",
              "    <tr style=\"text-align: right;\">\n",
              "      <th></th>\n",
              "      <th>user_id</th>\n",
              "      <th>ISBN</th>\n",
              "      <th>rating</th>\n",
              "      <th>title</th>\n",
              "      <th>author</th>\n",
              "      <th>year</th>\n",
              "      <th>publisher</th>\n",
              "    </tr>\n",
              "  </thead>\n",
              "  <tbody>\n",
              "    <tr>\n",
              "      <th>0</th>\n",
              "      <td>277427</td>\n",
              "      <td>002542730X</td>\n",
              "      <td>10</td>\n",
              "      <td>Politically Correct Bedtime Stories: Modern Ta...</td>\n",
              "      <td>James Finn Garner</td>\n",
              "      <td>1994</td>\n",
              "      <td>John Wiley &amp;amp; Sons Inc</td>\n",
              "    </tr>\n",
              "    <tr>\n",
              "      <th>1</th>\n",
              "      <td>3363</td>\n",
              "      <td>002542730X</td>\n",
              "      <td>0</td>\n",
              "      <td>Politically Correct Bedtime Stories: Modern Ta...</td>\n",
              "      <td>James Finn Garner</td>\n",
              "      <td>1994</td>\n",
              "      <td>John Wiley &amp;amp; Sons Inc</td>\n",
              "    </tr>\n",
              "    <tr>\n",
              "      <th>2</th>\n",
              "      <td>11676</td>\n",
              "      <td>002542730X</td>\n",
              "      <td>6</td>\n",
              "      <td>Politically Correct Bedtime Stories: Modern Ta...</td>\n",
              "      <td>James Finn Garner</td>\n",
              "      <td>1994</td>\n",
              "      <td>John Wiley &amp;amp; Sons Inc</td>\n",
              "    </tr>\n",
              "    <tr>\n",
              "      <th>3</th>\n",
              "      <td>12538</td>\n",
              "      <td>002542730X</td>\n",
              "      <td>10</td>\n",
              "      <td>Politically Correct Bedtime Stories: Modern Ta...</td>\n",
              "      <td>James Finn Garner</td>\n",
              "      <td>1994</td>\n",
              "      <td>John Wiley &amp;amp; Sons Inc</td>\n",
              "    </tr>\n",
              "    <tr>\n",
              "      <th>4</th>\n",
              "      <td>13552</td>\n",
              "      <td>002542730X</td>\n",
              "      <td>0</td>\n",
              "      <td>Politically Correct Bedtime Stories: Modern Ta...</td>\n",
              "      <td>James Finn Garner</td>\n",
              "      <td>1994</td>\n",
              "      <td>John Wiley &amp;amp; Sons Inc</td>\n",
              "    </tr>\n",
              "  </tbody>\n",
              "</table>\n",
              "</div>"
            ],
            "text/plain": [
              "   user_id        ISBN  ...  year                  publisher\n",
              "0   277427  002542730X  ...  1994  John Wiley &amp; Sons Inc\n",
              "1     3363  002542730X  ...  1994  John Wiley &amp; Sons Inc\n",
              "2    11676  002542730X  ...  1994  John Wiley &amp; Sons Inc\n",
              "3    12538  002542730X  ...  1994  John Wiley &amp; Sons Inc\n",
              "4    13552  002542730X  ...  1994  John Wiley &amp; Sons Inc\n",
              "\n",
              "[5 rows x 7 columns]"
            ]
          },
          "metadata": {
            "tags": []
          },
          "execution_count": 48
        }
      ]
    },
    {
      "cell_type": "markdown",
      "metadata": {
        "id": "F8MagY4etO9c"
      },
      "source": [
        "**Step-3) Extract books that have received more than 50 ratings**\n",
        "\n",
        "Now dataframe size has decreased and we have 4.8 lakh because when we merge the dataframe, all the book id-data we were not having. Now we will count the rating of each book so we will group data based on title and aggregate based on rating"
      ]
    },
    {
      "cell_type": "code",
      "metadata": {
        "id": "0HjBnSdXr2W6"
      },
      "source": [
        "number_rating= rating_with_books.groupby('title')['rating'].count().reset_index()\n",
        "number_rating.rename(columns={'rating':'number_of_ratings'},inplace=True)\n",
        "final_rating =rating_with_books.merge(number_rating,on='title')\n",
        "final_rating.shape\n",
        "final_rating = final_rating[final_rating['number_of_ratings']>=50]\n",
        "final_rating.drop_duplicates(['user_id','title'],inplace=True)"
      ],
      "execution_count": null,
      "outputs": []
    },
    {
      "cell_type": "markdown",
      "metadata": {
        "id": "GJSLvzr0uQAB"
      },
      "source": [
        "we have to drop duplicate values because if the same user has read the same book multiple times so it will create a problem. Finally, we have a dataset with that user who has rated more than 200 books and books that received more than 50 ratings. The shape of the final dataframe is 59850 row and 8 columns"
      ]
    },
    {
      "cell_type": "markdown",
      "metadata": {
        "id": "yP_pPltSvGf8"
      },
      "source": [
        "**Step-4) Create Pivot Table**\n",
        "\n",
        "As we discussed above we will create a pivot table where columns will be user ids, the index will be book title and the value is ratings. And the user id who has not rated any book will have value a NAN so impute it with zero"
      ]
    },
    {
      "cell_type": "code",
      "metadata": {
        "id": "lJRjTKW2r2hd"
      },
      "source": [
        "book_pivot = final_rating.pivot_table(columns='user_id',index='title',values='rating')\n",
        "book_pivot.fillna(0,inplace=True)"
      ],
      "execution_count": null,
      "outputs": []
    },
    {
      "cell_type": "markdown",
      "metadata": {
        "id": "YDc4KP9IvyfP"
      },
      "source": [
        "We can see that more than 11 users have removed out because their ratings were on those books which do receive more 50 ratings so they are moved out of the picture.\n"
      ]
    },
    {
      "cell_type": "markdown",
      "metadata": {
        "id": "kBWjaXd-wBNV"
      },
      "source": [
        "**Modelling**\n",
        "\n",
        "We have prepared our dataset for modelling. we will use the nearest neighbors algorithm which is the same as K nearest which is used for clustering based on education distance.\n",
        " But here in the pivot table, we have lots of zero values and on clustering, this computing power will increase to calculate the distance of zero values so we will convert the pivot table to the sparse matrix and then feed ti to the model"
      ]
    },
    {
      "cell_type": "code",
      "metadata": {
        "id": "ZyfMpbMnr0g5"
      },
      "source": [
        "from scipy.sparse import csr_matrix\n",
        "book_sparse = csr_matrix(book_pivot\n",
        "                         )\n"
      ],
      "execution_count": null,
      "outputs": []
    },
    {
      "cell_type": "markdown",
      "metadata": {
        "id": "go-D0fuGw2be"
      },
      "source": [
        "Now we wil train the nearest neighors algorithm. Here we need to specify an algorithm which is brute means find the distance of every point to every other point.\n"
      ]
    },
    {
      "cell_type": "code",
      "metadata": {
        "colab": {
          "base_uri": "https://localhost:8080/"
        },
        "id": "cgxYPZWQv-vi",
        "outputId": "53bdc605-2ce7-42c8-c313-557d3438902e"
      },
      "source": [
        "from sklearn.neighbors import NearestNeighbors\n",
        "model = NearestNeighbors(algorithm='brute')\n",
        "model.fit(book_sparse)"
      ],
      "execution_count": null,
      "outputs": [
        {
          "output_type": "execute_result",
          "data": {
            "text/plain": [
              "NearestNeighbors(algorithm='brute', leaf_size=30, metric='minkowski',\n",
              "                 metric_params=None, n_jobs=None, n_neighbors=5, p=2,\n",
              "                 radius=1.0)"
            ]
          },
          "metadata": {
            "tags": []
          },
          "execution_count": 55
        }
      ]
    },
    {
      "cell_type": "code",
      "metadata": {
        "id": "Mni41fGbxUw7"
      },
      "source": [
        ""
      ],
      "execution_count": null,
      "outputs": []
    },
    {
      "cell_type": "markdown",
      "metadata": {
        "id": "MOvPjHwjxYL2"
      },
      "source": [
        "Let's make a prediction and see whether it is suggesting books or not. we will find the nearest neighbors to the input book id and after that, we will print the top 5 books which are closer to those books. It will provide us distance and book id at that distance. Let us pass harry potter which is at 237 index."
      ]
    },
    {
      "cell_type": "code",
      "metadata": {
        "id": "F3BpThbOxxGE"
      },
      "source": [
        "distances,suggestions = model.kneighbors(book_pivot.iloc[237,:].values.reshape(1,-1))"
      ],
      "execution_count": null,
      "outputs": []
    },
    {
      "cell_type": "code",
      "metadata": {
        "id": "wFcB5iYVyAtr"
      },
      "source": [
        ""
      ],
      "execution_count": null,
      "outputs": []
    },
    {
      "cell_type": "markdown",
      "metadata": {
        "id": "4iO2d6p9yCUj"
      },
      "source": [
        "let us print all the suggested books"
      ]
    },
    {
      "cell_type": "code",
      "metadata": {
        "colab": {
          "base_uri": "https://localhost:8080/"
        },
        "id": "P5han2wJyGdf",
        "outputId": "cffa7a30-9ef6-4dcd-cc6b-87e6a23b6fdb"
      },
      "source": [
        "for i in range(len(suggestions)):\n",
        "  print(book_pivot.index[suggestions[i]])"
      ],
      "execution_count": null,
      "outputs": [
        {
          "output_type": "stream",
          "text": [
            "Index(['Harry Potter and the Chamber of Secrets (Book 2)',\n",
            "       'Harry Potter and the Prisoner of Azkaban (Book 3)',\n",
            "       'Harry Potter and the Goblet of Fire (Book 4)',\n",
            "       'Harry Potter and the Sorcerer's Stone (Book 1)', 'Exclusive'],\n",
            "      dtype='object', name='title')\n"
          ],
          "name": "stdout"
        }
      ]
    },
    {
      "cell_type": "code",
      "metadata": {
        "id": "kx_WE4uNyNLr"
      },
      "source": [
        ""
      ],
      "execution_count": null,
      "outputs": []
    },
    {
      "cell_type": "markdown",
      "metadata": {
        "id": "wJmer9CQyRbw"
      },
      "source": [
        "to print the title of book"
      ]
    }
  ]
}